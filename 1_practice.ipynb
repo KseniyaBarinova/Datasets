{
  "cells": [
    {
      "cell_type": "markdown",
      "metadata": {
        "id": "view-in-github",
        "colab_type": "text"
      },
      "source": [
        "<a href=\"https://colab.research.google.com/github/KseniyaBarinova/Machine-learning/blob/main/1_practice.ipynb\" target=\"_parent\"><img src=\"https://colab.research.google.com/assets/colab-badge.svg\" alt=\"Open In Colab\"/></a>"
      ]
    },
    {
      "cell_type": "markdown",
      "id": "b7111c84",
      "metadata": {
        "id": "b7111c84"
      },
      "source": [
        "# Введение в EDA"
      ]
    },
    {
      "cell_type": "markdown",
      "id": "a3b76450",
      "metadata": {
        "id": "a3b76450"
      },
      "source": [
        "Первым шагом мы импортируем необходимые для работы библиотеки"
      ]
    },
    {
      "cell_type": "code",
      "execution_count": 1,
      "id": "1b2793e1",
      "metadata": {
        "id": "1b2793e1"
      },
      "outputs": [],
      "source": [
        "from pathlib import Path # библиотека для работы с файлами\n",
        "\n",
        "import numpy as np\n",
        "import pandas as pd # библиотека для работы табличными данными\n",
        "from scipy import stats # библиотека с математическими операциями\n",
        "\n",
        "from matplotlib import pyplot as plt # библиотека для визуализации"
      ]
    },
    {
      "cell_type": "markdown",
      "id": "fb96888f",
      "metadata": {
        "id": "fb96888f"
      },
      "source": [
        "Скачаем наши данные (https://www.kaggle.com/competitions/titanic/data) и положим в папку `data`\n",
        "\n",
        "\n",
        "Структура должна иметь вид\n",
        "```text\n",
        "data/\n",
        "    test.csv\n",
        "    train.csv\n",
        "notebook.ipynb\n",
        "```"
      ]
    },
    {
      "cell_type": "markdown",
      "id": "31c44938",
      "metadata": {
        "id": "31c44938"
      },
      "source": [
        "Далее мы должны указать путь до датасета и прочитаем его с помощью `pd.read_csv`"
      ]
    },
    {
      "cell_type": "code",
      "source": [
        "from google.colab import drive\n",
        "drive.mount('/content/gdrive/')"
      ],
      "metadata": {
        "colab": {
          "base_uri": "https://localhost:8080/"
        },
        "id": "cEekODqy54Ks",
        "outputId": "5d3315de-5b95-492f-ced2-820b4046af0e"
      },
      "id": "cEekODqy54Ks",
      "execution_count": 3,
      "outputs": [
        {
          "output_type": "stream",
          "name": "stdout",
          "text": [
            "Mounted at /content/gdrive/\n"
          ]
        }
      ]
    },
    {
      "cell_type": "code",
      "execution_count": 5,
      "id": "74f4aa43",
      "metadata": {
        "id": "74f4aa43"
      },
      "outputs": [],
      "source": [
        "data_path = Path('/content/gdrive/MyDrive/ML_part2/Lesson_1')\n",
        "train_path = data_path / 'train.csv'\n",
        "\n",
        "train_dataset = pd.read_csv(train_path)"
      ]
    },
    {
      "cell_type": "markdown",
      "id": "312ac82d",
      "metadata": {
        "id": "312ac82d"
      },
      "source": [
        "Для получения общей информации о датасете можно вызвать метод `.info()`"
      ]
    },
    {
      "cell_type": "code",
      "execution_count": 6,
      "id": "dc67d816",
      "metadata": {
        "id": "dc67d816",
        "colab": {
          "base_uri": "https://localhost:8080/"
        },
        "outputId": "5718a0cc-9fdb-4dfd-c6e4-6a366700e6e5"
      },
      "outputs": [
        {
          "output_type": "stream",
          "name": "stdout",
          "text": [
            "<class 'pandas.core.frame.DataFrame'>\n",
            "RangeIndex: 891 entries, 0 to 890\n",
            "Data columns (total 12 columns):\n",
            " #   Column       Non-Null Count  Dtype  \n",
            "---  ------       --------------  -----  \n",
            " 0   PassengerId  891 non-null    int64  \n",
            " 1   Survived     891 non-null    int64  \n",
            " 2   Pclass       891 non-null    int64  \n",
            " 3   Name         891 non-null    object \n",
            " 4   Sex          891 non-null    object \n",
            " 5   Age          714 non-null    float64\n",
            " 6   SibSp        891 non-null    int64  \n",
            " 7   Parch        891 non-null    int64  \n",
            " 8   Ticket       891 non-null    object \n",
            " 9   Fare         891 non-null    float64\n",
            " 10  Cabin        204 non-null    object \n",
            " 11  Embarked     889 non-null    object \n",
            "dtypes: float64(2), int64(5), object(5)\n",
            "memory usage: 83.7+ KB\n"
          ]
        }
      ],
      "source": [
        "train_dataset.info()"
      ]
    },
    {
      "cell_type": "markdown",
      "id": "d759afc2",
      "metadata": {
        "id": "d759afc2"
      },
      "source": [
        "С помощью данного метода мы можем сразу увидеть какие колонки есть в нашем наборе данных, какие типы у этих данных, а также узнать количество не пустых значений."
      ]
    },
    {
      "cell_type": "markdown",
      "id": "168cd356",
      "metadata": {
        "id": "168cd356"
      },
      "source": [
        "Еще один удобный способ посмотреть на наши данные - метод `.head()`, который возвращает первые `n` (параметр настраивается) строчек из таблицы"
      ]
    },
    {
      "cell_type": "code",
      "execution_count": 7,
      "id": "cfa3c0a0",
      "metadata": {
        "id": "cfa3c0a0",
        "colab": {
          "base_uri": "https://localhost:8080/",
          "height": 241
        },
        "outputId": "2bbf29e5-d5c7-4e0b-ca0a-da4ca0fcfcf6"
      },
      "outputs": [
        {
          "output_type": "execute_result",
          "data": {
            "text/plain": [
              "   PassengerId  Survived  Pclass  \\\n",
              "0            1         0       3   \n",
              "1            2         1       1   \n",
              "2            3         1       3   \n",
              "3            4         1       1   \n",
              "4            5         0       3   \n",
              "\n",
              "                                                Name     Sex   Age  SibSp  \\\n",
              "0                            Braund, Mr. Owen Harris    male  22.0      1   \n",
              "1  Cumings, Mrs. John Bradley (Florence Briggs Th...  female  38.0      1   \n",
              "2                             Heikkinen, Miss. Laina  female  26.0      0   \n",
              "3       Futrelle, Mrs. Jacques Heath (Lily May Peel)  female  35.0      1   \n",
              "4                           Allen, Mr. William Henry    male  35.0      0   \n",
              "\n",
              "   Parch            Ticket     Fare Cabin Embarked  \n",
              "0      0         A/5 21171   7.2500   NaN        S  \n",
              "1      0          PC 17599  71.2833   C85        C  \n",
              "2      0  STON/O2. 3101282   7.9250   NaN        S  \n",
              "3      0            113803  53.1000  C123        S  \n",
              "4      0            373450   8.0500   NaN        S  "
            ],
            "text/html": [
              "\n",
              "  <div id=\"df-605796d4-27f5-4ba2-a120-dda5e33bef9c\" class=\"colab-df-container\">\n",
              "    <div>\n",
              "<style scoped>\n",
              "    .dataframe tbody tr th:only-of-type {\n",
              "        vertical-align: middle;\n",
              "    }\n",
              "\n",
              "    .dataframe tbody tr th {\n",
              "        vertical-align: top;\n",
              "    }\n",
              "\n",
              "    .dataframe thead th {\n",
              "        text-align: right;\n",
              "    }\n",
              "</style>\n",
              "<table border=\"1\" class=\"dataframe\">\n",
              "  <thead>\n",
              "    <tr style=\"text-align: right;\">\n",
              "      <th></th>\n",
              "      <th>PassengerId</th>\n",
              "      <th>Survived</th>\n",
              "      <th>Pclass</th>\n",
              "      <th>Name</th>\n",
              "      <th>Sex</th>\n",
              "      <th>Age</th>\n",
              "      <th>SibSp</th>\n",
              "      <th>Parch</th>\n",
              "      <th>Ticket</th>\n",
              "      <th>Fare</th>\n",
              "      <th>Cabin</th>\n",
              "      <th>Embarked</th>\n",
              "    </tr>\n",
              "  </thead>\n",
              "  <tbody>\n",
              "    <tr>\n",
              "      <th>0</th>\n",
              "      <td>1</td>\n",
              "      <td>0</td>\n",
              "      <td>3</td>\n",
              "      <td>Braund, Mr. Owen Harris</td>\n",
              "      <td>male</td>\n",
              "      <td>22.0</td>\n",
              "      <td>1</td>\n",
              "      <td>0</td>\n",
              "      <td>A/5 21171</td>\n",
              "      <td>7.2500</td>\n",
              "      <td>NaN</td>\n",
              "      <td>S</td>\n",
              "    </tr>\n",
              "    <tr>\n",
              "      <th>1</th>\n",
              "      <td>2</td>\n",
              "      <td>1</td>\n",
              "      <td>1</td>\n",
              "      <td>Cumings, Mrs. John Bradley (Florence Briggs Th...</td>\n",
              "      <td>female</td>\n",
              "      <td>38.0</td>\n",
              "      <td>1</td>\n",
              "      <td>0</td>\n",
              "      <td>PC 17599</td>\n",
              "      <td>71.2833</td>\n",
              "      <td>C85</td>\n",
              "      <td>C</td>\n",
              "    </tr>\n",
              "    <tr>\n",
              "      <th>2</th>\n",
              "      <td>3</td>\n",
              "      <td>1</td>\n",
              "      <td>3</td>\n",
              "      <td>Heikkinen, Miss. Laina</td>\n",
              "      <td>female</td>\n",
              "      <td>26.0</td>\n",
              "      <td>0</td>\n",
              "      <td>0</td>\n",
              "      <td>STON/O2. 3101282</td>\n",
              "      <td>7.9250</td>\n",
              "      <td>NaN</td>\n",
              "      <td>S</td>\n",
              "    </tr>\n",
              "    <tr>\n",
              "      <th>3</th>\n",
              "      <td>4</td>\n",
              "      <td>1</td>\n",
              "      <td>1</td>\n",
              "      <td>Futrelle, Mrs. Jacques Heath (Lily May Peel)</td>\n",
              "      <td>female</td>\n",
              "      <td>35.0</td>\n",
              "      <td>1</td>\n",
              "      <td>0</td>\n",
              "      <td>113803</td>\n",
              "      <td>53.1000</td>\n",
              "      <td>C123</td>\n",
              "      <td>S</td>\n",
              "    </tr>\n",
              "    <tr>\n",
              "      <th>4</th>\n",
              "      <td>5</td>\n",
              "      <td>0</td>\n",
              "      <td>3</td>\n",
              "      <td>Allen, Mr. William Henry</td>\n",
              "      <td>male</td>\n",
              "      <td>35.0</td>\n",
              "      <td>0</td>\n",
              "      <td>0</td>\n",
              "      <td>373450</td>\n",
              "      <td>8.0500</td>\n",
              "      <td>NaN</td>\n",
              "      <td>S</td>\n",
              "    </tr>\n",
              "  </tbody>\n",
              "</table>\n",
              "</div>\n",
              "    <div class=\"colab-df-buttons\">\n",
              "\n",
              "  <div class=\"colab-df-container\">\n",
              "    <button class=\"colab-df-convert\" onclick=\"convertToInteractive('df-605796d4-27f5-4ba2-a120-dda5e33bef9c')\"\n",
              "            title=\"Convert this dataframe to an interactive table.\"\n",
              "            style=\"display:none;\">\n",
              "\n",
              "  <svg xmlns=\"http://www.w3.org/2000/svg\" height=\"24px\" viewBox=\"0 -960 960 960\">\n",
              "    <path d=\"M120-120v-720h720v720H120Zm60-500h600v-160H180v160Zm220 220h160v-160H400v160Zm0 220h160v-160H400v160ZM180-400h160v-160H180v160Zm440 0h160v-160H620v160ZM180-180h160v-160H180v160Zm440 0h160v-160H620v160Z\"/>\n",
              "  </svg>\n",
              "    </button>\n",
              "\n",
              "  <style>\n",
              "    .colab-df-container {\n",
              "      display:flex;\n",
              "      gap: 12px;\n",
              "    }\n",
              "\n",
              "    .colab-df-convert {\n",
              "      background-color: #E8F0FE;\n",
              "      border: none;\n",
              "      border-radius: 50%;\n",
              "      cursor: pointer;\n",
              "      display: none;\n",
              "      fill: #1967D2;\n",
              "      height: 32px;\n",
              "      padding: 0 0 0 0;\n",
              "      width: 32px;\n",
              "    }\n",
              "\n",
              "    .colab-df-convert:hover {\n",
              "      background-color: #E2EBFA;\n",
              "      box-shadow: 0px 1px 2px rgba(60, 64, 67, 0.3), 0px 1px 3px 1px rgba(60, 64, 67, 0.15);\n",
              "      fill: #174EA6;\n",
              "    }\n",
              "\n",
              "    .colab-df-buttons div {\n",
              "      margin-bottom: 4px;\n",
              "    }\n",
              "\n",
              "    [theme=dark] .colab-df-convert {\n",
              "      background-color: #3B4455;\n",
              "      fill: #D2E3FC;\n",
              "    }\n",
              "\n",
              "    [theme=dark] .colab-df-convert:hover {\n",
              "      background-color: #434B5C;\n",
              "      box-shadow: 0px 1px 3px 1px rgba(0, 0, 0, 0.15);\n",
              "      filter: drop-shadow(0px 1px 2px rgba(0, 0, 0, 0.3));\n",
              "      fill: #FFFFFF;\n",
              "    }\n",
              "  </style>\n",
              "\n",
              "    <script>\n",
              "      const buttonEl =\n",
              "        document.querySelector('#df-605796d4-27f5-4ba2-a120-dda5e33bef9c button.colab-df-convert');\n",
              "      buttonEl.style.display =\n",
              "        google.colab.kernel.accessAllowed ? 'block' : 'none';\n",
              "\n",
              "      async function convertToInteractive(key) {\n",
              "        const element = document.querySelector('#df-605796d4-27f5-4ba2-a120-dda5e33bef9c');\n",
              "        const dataTable =\n",
              "          await google.colab.kernel.invokeFunction('convertToInteractive',\n",
              "                                                    [key], {});\n",
              "        if (!dataTable) return;\n",
              "\n",
              "        const docLinkHtml = 'Like what you see? Visit the ' +\n",
              "          '<a target=\"_blank\" href=https://colab.research.google.com/notebooks/data_table.ipynb>data table notebook</a>'\n",
              "          + ' to learn more about interactive tables.';\n",
              "        element.innerHTML = '';\n",
              "        dataTable['output_type'] = 'display_data';\n",
              "        await google.colab.output.renderOutput(dataTable, element);\n",
              "        const docLink = document.createElement('div');\n",
              "        docLink.innerHTML = docLinkHtml;\n",
              "        element.appendChild(docLink);\n",
              "      }\n",
              "    </script>\n",
              "  </div>\n",
              "\n",
              "\n",
              "<div id=\"df-d6891dd7-7fd4-416c-ba8c-676dd695bd0f\">\n",
              "  <button class=\"colab-df-quickchart\" onclick=\"quickchart('df-d6891dd7-7fd4-416c-ba8c-676dd695bd0f')\"\n",
              "            title=\"Suggest charts\"\n",
              "            style=\"display:none;\">\n",
              "\n",
              "<svg xmlns=\"http://www.w3.org/2000/svg\" height=\"24px\"viewBox=\"0 0 24 24\"\n",
              "     width=\"24px\">\n",
              "    <g>\n",
              "        <path d=\"M19 3H5c-1.1 0-2 .9-2 2v14c0 1.1.9 2 2 2h14c1.1 0 2-.9 2-2V5c0-1.1-.9-2-2-2zM9 17H7v-7h2v7zm4 0h-2V7h2v10zm4 0h-2v-4h2v4z\"/>\n",
              "    </g>\n",
              "</svg>\n",
              "  </button>\n",
              "\n",
              "<style>\n",
              "  .colab-df-quickchart {\n",
              "      --bg-color: #E8F0FE;\n",
              "      --fill-color: #1967D2;\n",
              "      --hover-bg-color: #E2EBFA;\n",
              "      --hover-fill-color: #174EA6;\n",
              "      --disabled-fill-color: #AAA;\n",
              "      --disabled-bg-color: #DDD;\n",
              "  }\n",
              "\n",
              "  [theme=dark] .colab-df-quickchart {\n",
              "      --bg-color: #3B4455;\n",
              "      --fill-color: #D2E3FC;\n",
              "      --hover-bg-color: #434B5C;\n",
              "      --hover-fill-color: #FFFFFF;\n",
              "      --disabled-bg-color: #3B4455;\n",
              "      --disabled-fill-color: #666;\n",
              "  }\n",
              "\n",
              "  .colab-df-quickchart {\n",
              "    background-color: var(--bg-color);\n",
              "    border: none;\n",
              "    border-radius: 50%;\n",
              "    cursor: pointer;\n",
              "    display: none;\n",
              "    fill: var(--fill-color);\n",
              "    height: 32px;\n",
              "    padding: 0;\n",
              "    width: 32px;\n",
              "  }\n",
              "\n",
              "  .colab-df-quickchart:hover {\n",
              "    background-color: var(--hover-bg-color);\n",
              "    box-shadow: 0 1px 2px rgba(60, 64, 67, 0.3), 0 1px 3px 1px rgba(60, 64, 67, 0.15);\n",
              "    fill: var(--button-hover-fill-color);\n",
              "  }\n",
              "\n",
              "  .colab-df-quickchart-complete:disabled,\n",
              "  .colab-df-quickchart-complete:disabled:hover {\n",
              "    background-color: var(--disabled-bg-color);\n",
              "    fill: var(--disabled-fill-color);\n",
              "    box-shadow: none;\n",
              "  }\n",
              "\n",
              "  .colab-df-spinner {\n",
              "    border: 2px solid var(--fill-color);\n",
              "    border-color: transparent;\n",
              "    border-bottom-color: var(--fill-color);\n",
              "    animation:\n",
              "      spin 1s steps(1) infinite;\n",
              "  }\n",
              "\n",
              "  @keyframes spin {\n",
              "    0% {\n",
              "      border-color: transparent;\n",
              "      border-bottom-color: var(--fill-color);\n",
              "      border-left-color: var(--fill-color);\n",
              "    }\n",
              "    20% {\n",
              "      border-color: transparent;\n",
              "      border-left-color: var(--fill-color);\n",
              "      border-top-color: var(--fill-color);\n",
              "    }\n",
              "    30% {\n",
              "      border-color: transparent;\n",
              "      border-left-color: var(--fill-color);\n",
              "      border-top-color: var(--fill-color);\n",
              "      border-right-color: var(--fill-color);\n",
              "    }\n",
              "    40% {\n",
              "      border-color: transparent;\n",
              "      border-right-color: var(--fill-color);\n",
              "      border-top-color: var(--fill-color);\n",
              "    }\n",
              "    60% {\n",
              "      border-color: transparent;\n",
              "      border-right-color: var(--fill-color);\n",
              "    }\n",
              "    80% {\n",
              "      border-color: transparent;\n",
              "      border-right-color: var(--fill-color);\n",
              "      border-bottom-color: var(--fill-color);\n",
              "    }\n",
              "    90% {\n",
              "      border-color: transparent;\n",
              "      border-bottom-color: var(--fill-color);\n",
              "    }\n",
              "  }\n",
              "</style>\n",
              "\n",
              "  <script>\n",
              "    async function quickchart(key) {\n",
              "      const quickchartButtonEl =\n",
              "        document.querySelector('#' + key + ' button');\n",
              "      quickchartButtonEl.disabled = true;  // To prevent multiple clicks.\n",
              "      quickchartButtonEl.classList.add('colab-df-spinner');\n",
              "      try {\n",
              "        const charts = await google.colab.kernel.invokeFunction(\n",
              "            'suggestCharts', [key], {});\n",
              "      } catch (error) {\n",
              "        console.error('Error during call to suggestCharts:', error);\n",
              "      }\n",
              "      quickchartButtonEl.classList.remove('colab-df-spinner');\n",
              "      quickchartButtonEl.classList.add('colab-df-quickchart-complete');\n",
              "    }\n",
              "    (() => {\n",
              "      let quickchartButtonEl =\n",
              "        document.querySelector('#df-d6891dd7-7fd4-416c-ba8c-676dd695bd0f button');\n",
              "      quickchartButtonEl.style.display =\n",
              "        google.colab.kernel.accessAllowed ? 'block' : 'none';\n",
              "    })();\n",
              "  </script>\n",
              "</div>\n",
              "    </div>\n",
              "  </div>\n"
            ],
            "application/vnd.google.colaboratory.intrinsic+json": {
              "type": "dataframe",
              "variable_name": "train_dataset",
              "summary": "{\n  \"name\": \"train_dataset\",\n  \"rows\": 891,\n  \"fields\": [\n    {\n      \"column\": \"PassengerId\",\n      \"properties\": {\n        \"dtype\": \"number\",\n        \"std\": 257,\n        \"min\": 1,\n        \"max\": 891,\n        \"num_unique_values\": 891,\n        \"samples\": [\n          710,\n          440,\n          841\n        ],\n        \"semantic_type\": \"\",\n        \"description\": \"\"\n      }\n    },\n    {\n      \"column\": \"Survived\",\n      \"properties\": {\n        \"dtype\": \"number\",\n        \"std\": 0,\n        \"min\": 0,\n        \"max\": 1,\n        \"num_unique_values\": 2,\n        \"samples\": [\n          1,\n          0\n        ],\n        \"semantic_type\": \"\",\n        \"description\": \"\"\n      }\n    },\n    {\n      \"column\": \"Pclass\",\n      \"properties\": {\n        \"dtype\": \"number\",\n        \"std\": 0,\n        \"min\": 1,\n        \"max\": 3,\n        \"num_unique_values\": 3,\n        \"samples\": [\n          3,\n          1\n        ],\n        \"semantic_type\": \"\",\n        \"description\": \"\"\n      }\n    },\n    {\n      \"column\": \"Name\",\n      \"properties\": {\n        \"dtype\": \"string\",\n        \"num_unique_values\": 891,\n        \"samples\": [\n          \"Moubarek, Master. Halim Gonios (\\\"William George\\\")\",\n          \"Kvillner, Mr. Johan Henrik Johannesson\"\n        ],\n        \"semantic_type\": \"\",\n        \"description\": \"\"\n      }\n    },\n    {\n      \"column\": \"Sex\",\n      \"properties\": {\n        \"dtype\": \"category\",\n        \"num_unique_values\": 2,\n        \"samples\": [\n          \"female\",\n          \"male\"\n        ],\n        \"semantic_type\": \"\",\n        \"description\": \"\"\n      }\n    },\n    {\n      \"column\": \"Age\",\n      \"properties\": {\n        \"dtype\": \"number\",\n        \"std\": 14.526497332334042,\n        \"min\": 0.42,\n        \"max\": 80.0,\n        \"num_unique_values\": 88,\n        \"samples\": [\n          0.75,\n          22.0\n        ],\n        \"semantic_type\": \"\",\n        \"description\": \"\"\n      }\n    },\n    {\n      \"column\": \"SibSp\",\n      \"properties\": {\n        \"dtype\": \"number\",\n        \"std\": 1,\n        \"min\": 0,\n        \"max\": 8,\n        \"num_unique_values\": 7,\n        \"samples\": [\n          1,\n          0\n        ],\n        \"semantic_type\": \"\",\n        \"description\": \"\"\n      }\n    },\n    {\n      \"column\": \"Parch\",\n      \"properties\": {\n        \"dtype\": \"number\",\n        \"std\": 0,\n        \"min\": 0,\n        \"max\": 6,\n        \"num_unique_values\": 7,\n        \"samples\": [\n          0,\n          1\n        ],\n        \"semantic_type\": \"\",\n        \"description\": \"\"\n      }\n    },\n    {\n      \"column\": \"Ticket\",\n      \"properties\": {\n        \"dtype\": \"string\",\n        \"num_unique_values\": 681,\n        \"samples\": [\n          \"11774\",\n          \"248740\"\n        ],\n        \"semantic_type\": \"\",\n        \"description\": \"\"\n      }\n    },\n    {\n      \"column\": \"Fare\",\n      \"properties\": {\n        \"dtype\": \"number\",\n        \"std\": 49.6934285971809,\n        \"min\": 0.0,\n        \"max\": 512.3292,\n        \"num_unique_values\": 248,\n        \"samples\": [\n          11.2417,\n          51.8625\n        ],\n        \"semantic_type\": \"\",\n        \"description\": \"\"\n      }\n    },\n    {\n      \"column\": \"Cabin\",\n      \"properties\": {\n        \"dtype\": \"category\",\n        \"num_unique_values\": 147,\n        \"samples\": [\n          \"D45\",\n          \"B49\"\n        ],\n        \"semantic_type\": \"\",\n        \"description\": \"\"\n      }\n    },\n    {\n      \"column\": \"Embarked\",\n      \"properties\": {\n        \"dtype\": \"category\",\n        \"num_unique_values\": 3,\n        \"samples\": [\n          \"S\",\n          \"C\"\n        ],\n        \"semantic_type\": \"\",\n        \"description\": \"\"\n      }\n    }\n  ]\n}"
            }
          },
          "metadata": {},
          "execution_count": 7
        }
      ],
      "source": [
        "train_dataset.head()"
      ]
    },
    {
      "cell_type": "markdown",
      "id": "83fbf275",
      "metadata": {
        "id": "83fbf275"
      },
      "source": [
        "Реализуем свой способ оценить количество уникальных признаков в колонках"
      ]
    },
    {
      "cell_type": "code",
      "execution_count": 8,
      "id": "40379bf2",
      "metadata": {
        "id": "40379bf2"
      },
      "outputs": [],
      "source": [
        "def get_unique_values(data: pd.DataFrame) -> dict[str, int]:\n",
        "    \"\"\"Данная функция должна подсчитывать количество уникальных значений в каждой из колонок\"\"\"\n",
        "    result_dict = {}\n",
        "\n",
        "    for label, content in train_dataset.items():\n",
        "        unique_content = list(set(content))\n",
        "        result_dict[label] = len(unique_content)\n",
        "    return result_dict"
      ]
    },
    {
      "cell_type": "code",
      "execution_count": 9,
      "id": "544840be",
      "metadata": {
        "id": "544840be",
        "colab": {
          "base_uri": "https://localhost:8080/"
        },
        "outputId": "2b32e5e0-d19c-46cc-83f8-6f8556802394"
      },
      "outputs": [
        {
          "output_type": "execute_result",
          "data": {
            "text/plain": [
              "{'PassengerId': 891,\n",
              " 'Survived': 2,\n",
              " 'Pclass': 3,\n",
              " 'Name': 891,\n",
              " 'Sex': 2,\n",
              " 'Age': 265,\n",
              " 'SibSp': 7,\n",
              " 'Parch': 7,\n",
              " 'Ticket': 681,\n",
              " 'Fare': 248,\n",
              " 'Cabin': 148,\n",
              " 'Embarked': 4}"
            ]
          },
          "metadata": {},
          "execution_count": 9
        }
      ],
      "source": [
        "get_unique_values(train_dataset)"
      ]
    },
    {
      "cell_type": "markdown",
      "id": "f318f1ef",
      "metadata": {
        "id": "f318f1ef"
      },
      "source": [
        "Теперь мы можем видеть, что на самом деле у нас присутствуют не только целочисленные признаки (`PassengerId`), дробные признаки (`Age`, `Fare`), текстовые признаки (`Name`), но и категориальные. Более того некоторые категориальные признаки, например, `Survived`, `Sex` являются бинарными."
      ]
    },
    {
      "cell_type": "markdown",
      "id": "40b31587",
      "metadata": {
        "id": "40b31587"
      },
      "source": [
        "Давайте проанализируем датасет на пустые значения"
      ]
    },
    {
      "cell_type": "code",
      "execution_count": 10,
      "id": "94780a4b",
      "metadata": {
        "id": "94780a4b"
      },
      "outputs": [],
      "source": [
        "def get_number_of_missing_values(data: pd.Series) -> dict[str, int]:\n",
        "    \"\"\"Данная функция должна подсчитывать количество пустых ячеек в каждой из колонок\"\"\"\n",
        "    result_dict = {}\n",
        "\n",
        "    for label, content in data.items():\n",
        "        result_dict[label] = sum(pd.isna(content))\n",
        "    return result_dict"
      ]
    },
    {
      "cell_type": "code",
      "execution_count": 11,
      "id": "22f4da40",
      "metadata": {
        "id": "22f4da40",
        "colab": {
          "base_uri": "https://localhost:8080/"
        },
        "outputId": "f309f080-ea8d-4184-c882-bd9be1912be3"
      },
      "outputs": [
        {
          "output_type": "execute_result",
          "data": {
            "text/plain": [
              "{'PassengerId': 0,\n",
              " 'Survived': 0,\n",
              " 'Pclass': 0,\n",
              " 'Name': 0,\n",
              " 'Sex': 0,\n",
              " 'Age': 177,\n",
              " 'SibSp': 0,\n",
              " 'Parch': 0,\n",
              " 'Ticket': 0,\n",
              " 'Fare': 0,\n",
              " 'Cabin': 687,\n",
              " 'Embarked': 2}"
            ]
          },
          "metadata": {},
          "execution_count": 11
        }
      ],
      "source": [
        "get_number_of_missing_values(train_dataset)"
      ]
    },
    {
      "cell_type": "markdown",
      "id": "87933b8f",
      "metadata": {
        "id": "87933b8f"
      },
      "source": [
        "Как видим, у нас пропущены значения в колонках `Age`, `Cabin` и `Embarked`"
      ]
    },
    {
      "cell_type": "markdown",
      "id": "6b9a735d",
      "metadata": {
        "id": "6b9a735d"
      },
      "source": [
        "Рассмотрим влияение пустых значений в колонке `Age` на метрики `mean`, `median`, `mode`, `variance`, `std`, `Quartile`"
      ]
    },
    {
      "cell_type": "code",
      "execution_count": 12,
      "id": "2dd2bbe8",
      "metadata": {
        "id": "2dd2bbe8"
      },
      "outputs": [],
      "source": [
        "def get_basic_metrics(data: pd.Series) -> dict[str, float]:\n",
        "    \"\"\"\n",
        "    Данная функция должна считать метрики `mean`, `median`, `mode`, `variance`, `std`, `Q1`,`Q2`,`Q3`,`Q4`\n",
        "    и возвращать словарь со значениями\n",
        "    \"\"\"\n",
        "    result_dict = {}\n",
        "\n",
        "    result_dict['mean'] = np.mean(data)\n",
        "    result_dict['median'] = np.median(data)\n",
        "    result_dict['mode'] = stats.mode(data)\n",
        "    result_dict['variance'] = np.var(data)\n",
        "    result_dict['STD'] = np.std(data)\n",
        "    result_dict['Q1'] = np.quantile(data, 0.25)\n",
        "    result_dict['Q2'] = np.quantile(data, 0.5)\n",
        "    result_dict['Q3'] = np.quantile(data, 0.75)\n",
        "    result_dict['Q4'] = np.quantile(data, 1)\n",
        "    return result_dict"
      ]
    },
    {
      "cell_type": "code",
      "execution_count": 13,
      "id": "ff09ab2d",
      "metadata": {
        "id": "ff09ab2d",
        "colab": {
          "base_uri": "https://localhost:8080/"
        },
        "outputId": "06e718ef-7c58-47f0-ab4c-edec8609d87c"
      },
      "outputs": [
        {
          "output_type": "execute_result",
          "data": {
            "text/plain": [
              "{'mean': 29.69911764705882,\n",
              " 'median': nan,\n",
              " 'mode': ModeResult(mode=nan, count=177),\n",
              " 'variance': 210.72357975366614,\n",
              " 'STD': 14.516321150817316,\n",
              " 'Q1': nan,\n",
              " 'Q2': nan,\n",
              " 'Q3': nan,\n",
              " 'Q4': nan}"
            ]
          },
          "metadata": {},
          "execution_count": 13
        }
      ],
      "source": [
        "subset = train_dataset['Age']\n",
        "get_basic_metrics(subset)"
      ]
    },
    {
      "cell_type": "markdown",
      "id": "5910ba53",
      "metadata": {
        "id": "5910ba53"
      },
      "source": [
        "Как видим пустых значений много, многие метрики не умеют работать с пропущенными значениями."
      ]
    },
    {
      "cell_type": "code",
      "execution_count": 14,
      "id": "71fd3539",
      "metadata": {
        "id": "71fd3539"
      },
      "outputs": [],
      "source": [
        "def get_metrics(data: pd.Series) -> dict[str, float]:\n",
        "    \"\"\"\n",
        "    Данная функция должна считать метрики `mean`, `median`, `mode`, `variance`, `std`, `Q1`,`Q2`,`Q3`,`Q4`\n",
        "    и возвращать словарь со значениями, учитывая пустые значения\n",
        "    \"\"\"\n",
        "    result_dict = {}\n",
        "\n",
        "    cropped_data = data.dropna()\n",
        "\n",
        "    result_dict['mean'] = np.mean(cropped_data)\n",
        "    result_dict['median'] = np.median(cropped_data)\n",
        "    result_dict['mode'] = stats.mode(cropped_data).mode\n",
        "    result_dict['variance'] = np.var(cropped_data)\n",
        "    result_dict['STD'] = np.std(cropped_data)\n",
        "    result_dict['Q1'] = np.quantile(cropped_data, 0.25)\n",
        "    result_dict['Q2'] = np.quantile(cropped_data, 0.5)\n",
        "    result_dict['Q3'] = np.quantile(cropped_data, 0.75)\n",
        "    result_dict['Q4'] = np.quantile(cropped_data, 1)\n",
        "    return result_dict"
      ]
    },
    {
      "cell_type": "code",
      "execution_count": 15,
      "id": "43721ada",
      "metadata": {
        "id": "43721ada",
        "colab": {
          "base_uri": "https://localhost:8080/"
        },
        "outputId": "28630871-5db9-43b9-cafa-eefc59108eca"
      },
      "outputs": [
        {
          "output_type": "execute_result",
          "data": {
            "text/plain": [
              "{'mean': 29.69911764705882,\n",
              " 'median': 28.0,\n",
              " 'mode': 24.0,\n",
              " 'variance': 210.72357975366617,\n",
              " 'STD': 14.516321150817316,\n",
              " 'Q1': 20.125,\n",
              " 'Q2': 28.0,\n",
              " 'Q3': 38.0,\n",
              " 'Q4': 80.0}"
            ]
          },
          "metadata": {},
          "execution_count": 15
        }
      ],
      "source": [
        "original_result = get_metrics(subset)\n",
        "original_result"
      ]
    },
    {
      "cell_type": "markdown",
      "id": "7270e5fe",
      "metadata": {
        "id": "7270e5fe"
      },
      "source": [
        "Эксперимент №1\n",
        "\n",
        "Заменить пропущенные значения на `mean`"
      ]
    },
    {
      "cell_type": "code",
      "execution_count": 16,
      "id": "0d9f3729",
      "metadata": {
        "id": "0d9f3729"
      },
      "outputs": [],
      "source": [
        "def fill_empty_values(data: pd.Series, value: float) -> pd.Series:\n",
        "    return data.fillna(value)"
      ]
    },
    {
      "cell_type": "code",
      "execution_count": 17,
      "id": "2aedcbf5",
      "metadata": {
        "id": "2aedcbf5"
      },
      "outputs": [],
      "source": [
        "def print_dicts_comparison(dict1: dict[str, float], dict2: dict[str, float]) -> None:\n",
        "    for metric_name in dict1.keys():\n",
        "        print(f'{metric_name}: {dict1[metric_name]} -> {dict2[metric_name]}')"
      ]
    },
    {
      "cell_type": "code",
      "execution_count": 18,
      "id": "2114d1ef",
      "metadata": {
        "id": "2114d1ef",
        "colab": {
          "base_uri": "https://localhost:8080/"
        },
        "outputId": "b0fb4ebf-9c80-4c1b-ae22-9526e4e9518e"
      },
      "outputs": [
        {
          "output_type": "stream",
          "name": "stdout",
          "text": [
            "mean: 29.69911764705882 -> 29.69911764705882\n",
            "median: 28.0 -> 29.69911764705882\n",
            "mode: 24.0 -> 29.69911764705882\n",
            "variance: 210.72357975366617 -> 168.86266660394793\n",
            "STD: 14.516321150817316 -> 12.99471687278903\n",
            "Q1: 20.125 -> 22.0\n",
            "Q2: 28.0 -> 29.69911764705882\n",
            "Q3: 38.0 -> 35.0\n",
            "Q4: 80.0 -> 80.0\n"
          ]
        }
      ],
      "source": [
        "value = get_metrics(subset)['mean']\n",
        "\n",
        "filled_subset = fill_empty_values(subset, value)\n",
        "\n",
        "print_dicts_comparison(original_result, get_metrics(filled_subset))"
      ]
    },
    {
      "cell_type": "markdown",
      "id": "72903bfd",
      "metadata": {
        "id": "72903bfd"
      },
      "source": [
        "Эксперимент №2\n",
        "\n",
        "Заменить пропущенные значения на `median`"
      ]
    },
    {
      "cell_type": "code",
      "execution_count": 19,
      "id": "7aaaa121",
      "metadata": {
        "id": "7aaaa121",
        "colab": {
          "base_uri": "https://localhost:8080/"
        },
        "outputId": "347d5a24-c60e-4416-cbb5-5e48b118a33e"
      },
      "outputs": [
        {
          "output_type": "stream",
          "name": "stdout",
          "text": [
            "mean: 29.69911764705882 -> 29.36158249158249\n",
            "median: 28.0 -> 28.0\n",
            "mode: 24.0 -> 28.0\n",
            "variance: 210.72357975366617 -> 169.32224856193815\n",
            "STD: 14.516321150817316 -> 13.012388272793666\n",
            "Q1: 20.125 -> 22.0\n",
            "Q2: 28.0 -> 28.0\n",
            "Q3: 38.0 -> 35.0\n",
            "Q4: 80.0 -> 80.0\n"
          ]
        }
      ],
      "source": [
        "value = get_metrics(subset)['median']\n",
        "\n",
        "filled_subset = fill_empty_values(subset, value)\n",
        "\n",
        "print_dicts_comparison(original_result, get_metrics(filled_subset))"
      ]
    },
    {
      "cell_type": "markdown",
      "id": "dbf7b4d6",
      "metadata": {
        "id": "dbf7b4d6"
      },
      "source": [
        "Эксперимент №3\n",
        "\n",
        "Заменить пропущенные значения на `mode`"
      ]
    },
    {
      "cell_type": "code",
      "execution_count": 20,
      "id": "f5b42f63",
      "metadata": {
        "id": "f5b42f63",
        "colab": {
          "base_uri": "https://localhost:8080/"
        },
        "outputId": "0227462f-5be8-456c-972f-98eda0331fe9"
      },
      "outputs": [
        {
          "output_type": "stream",
          "name": "stdout",
          "text": [
            "mean: 29.69911764705882 -> 28.566969696969696\n",
            "median: 28.0 -> 24.0\n",
            "mode: 24.0 -> 24.0\n",
            "variance: 210.72357975366617 -> 174.03315198449138\n",
            "STD: 14.516321150817316 -> 13.192162521152147\n",
            "Q1: 20.125 -> 22.0\n",
            "Q2: 28.0 -> 24.0\n",
            "Q3: 38.0 -> 35.0\n",
            "Q4: 80.0 -> 80.0\n"
          ]
        }
      ],
      "source": [
        "value = get_metrics(subset)['mode']\n",
        "\n",
        "filled_subset = fill_empty_values(subset, value)\n",
        "\n",
        "print_dicts_comparison(original_result, get_metrics(filled_subset))"
      ]
    },
    {
      "cell_type": "markdown",
      "id": "e888f9d7",
      "metadata": {
        "id": "e888f9d7"
      },
      "source": [
        "Изучим выбросы"
      ]
    },
    {
      "cell_type": "markdown",
      "id": "b1ac440f",
      "metadata": {
        "id": "b1ac440f"
      },
      "source": [
        "Начнем с подхода IQR"
      ]
    },
    {
      "cell_type": "code",
      "execution_count": 21,
      "id": "bf1ab4e9",
      "metadata": {
        "id": "bf1ab4e9"
      },
      "outputs": [],
      "source": [
        "def get_interquartile_range_mask(data: pd.Series) -> pd.Series:\n",
        "    \"\"\"\n",
        "    Данная функция должна считать квартили, считать верхнюю и нижнюю границу и возвращать маску\n",
        "    \"\"\"\n",
        "    cropped_data = data.dropna()\n",
        "\n",
        "    quartile_1 = np.quantile(cropped_data, 0.25)\n",
        "    quartile_3 = np.quantile(cropped_data, 0.75)\n",
        "\n",
        "    difference_quartile = quartile_3 - quartile_1\n",
        "\n",
        "    left_bound = quartile_1 - 1.5 * difference_quartile\n",
        "    right_bound = quartile_3 + 1.5 * difference_quartile\n",
        "\n",
        "    outliers_mask = (data < left_bound) | (data > right_bound)\n",
        "    return outliers_mask"
      ]
    },
    {
      "cell_type": "code",
      "execution_count": 22,
      "id": "e189eece",
      "metadata": {
        "id": "e189eece"
      },
      "outputs": [],
      "source": [
        "outlier_mask = get_interquartile_range_mask(subset)"
      ]
    },
    {
      "cell_type": "code",
      "source": [
        "outlier_mask"
      ],
      "metadata": {
        "colab": {
          "base_uri": "https://localhost:8080/"
        },
        "id": "GaehFndO6cF-",
        "outputId": "66e9d975-5074-49f0-b0d0-e4d3274f26d0"
      },
      "id": "GaehFndO6cF-",
      "execution_count": 23,
      "outputs": [
        {
          "output_type": "execute_result",
          "data": {
            "text/plain": [
              "0      False\n",
              "1      False\n",
              "2      False\n",
              "3      False\n",
              "4      False\n",
              "       ...  \n",
              "886    False\n",
              "887    False\n",
              "888    False\n",
              "889    False\n",
              "890    False\n",
              "Name: Age, Length: 891, dtype: bool"
            ]
          },
          "metadata": {},
          "execution_count": 23
        }
      ]
    },
    {
      "cell_type": "markdown",
      "id": "518c700c",
      "metadata": {
        "id": "518c700c"
      },
      "source": [
        "Посчитать количество выбросов мы можем с помощью обычной суммы"
      ]
    },
    {
      "cell_type": "code",
      "execution_count": 24,
      "id": "576a68ed",
      "metadata": {
        "id": "576a68ed",
        "colab": {
          "base_uri": "https://localhost:8080/"
        },
        "outputId": "4de40277-eca0-42f1-fd9a-2609cd8660f9"
      },
      "outputs": [
        {
          "output_type": "execute_result",
          "data": {
            "text/plain": [
              "11"
            ]
          },
          "metadata": {},
          "execution_count": 24
        }
      ],
      "source": [
        "sum(outlier_mask)"
      ]
    },
    {
      "cell_type": "markdown",
      "id": "ca6b4321",
      "metadata": {
        "id": "ca6b4321"
      },
      "source": [
        "Мы можем реализовать следующую функцию для анализа работы IQR"
      ]
    },
    {
      "cell_type": "code",
      "execution_count": 25,
      "id": "261d0e25",
      "metadata": {
        "id": "261d0e25"
      },
      "outputs": [],
      "source": [
        "def plot_interquartile_range(data: pd.Series, threshold: float) -> plt.Figure:\n",
        "    \"\"\"\n",
        "    Визуализация IQR\n",
        "    \"\"\"\n",
        "\n",
        "    cropped_data = data.dropna()\n",
        "\n",
        "    quartile_1 = np.quantile(cropped_data, 0.25)\n",
        "    quartile_3 = np.quantile(cropped_data, 0.75)\n",
        "\n",
        "    difference_quartile = quartile_3 - quartile_1\n",
        "\n",
        "    left_bound = quartile_1 - threshold * difference_quartile\n",
        "    right_bound = quartile_3 + threshold * difference_quartile\n",
        "\n",
        "    left_data = []\n",
        "    right_data = []\n",
        "    normal_data = []\n",
        "    for value in data:\n",
        "        if value < left_bound:\n",
        "            left_data.append(value)\n",
        "        elif value > right_bound:\n",
        "            right_data.append(value)\n",
        "        else:\n",
        "            normal_data.append(value)\n",
        "\n",
        "\n",
        "    figure = plt.gcf()\n",
        "    axe = figure.gca()\n",
        "\n",
        "    left_x = np.arange(0, len(left_data))\n",
        "    normal_x = np.arange(len(left_data), len(data) - len(right_data))\n",
        "    right_x = np.arange(len(data) - len(right_data), len(data))\n",
        "\n",
        "    if left_data:\n",
        "        axe.plot(left_x, np.array(left_data))\n",
        "    if normal_data:\n",
        "        print(normal_x.shape, np.array(normal_data).shape)\n",
        "        axe.plot(normal_x, np.array(normal_data))\n",
        "    if right_data:\n",
        "        axe.plot(right_x, np.array(right_data))\n",
        "    return figure"
      ]
    },
    {
      "cell_type": "code",
      "execution_count": 26,
      "id": "5b674d46",
      "metadata": {
        "id": "5b674d46",
        "colab": {
          "base_uri": "https://localhost:8080/",
          "height": 447
        },
        "outputId": "37066835-1a90-45cb-ede4-ea3aa63dc1a2"
      },
      "outputs": [
        {
          "output_type": "stream",
          "name": "stdout",
          "text": [
            "(796,) (796,)\n"
          ]
        },
        {
          "output_type": "display_data",
          "data": {
            "text/plain": [
              "<Figure size 640x480 with 1 Axes>"
            ],
            "image/png": "[encoded data removed]"
          },
          "metadata": {}
        }
      ],
      "source": [
        "threshold = 0.8\n",
        "figure = plot_interquartile_range(subset, threshold)\n",
        "figure.show()"
      ]
    },
    {
      "cell_type": "markdown",
      "id": "6b005f1d",
      "metadata": {
        "id": "6b005f1d"
      },
      "source": [
        "Подход Z-Score"
      ]
    },
    {
      "cell_type": "code",
      "execution_count": 27,
      "id": "61e18c6f",
      "metadata": {
        "id": "61e18c6f"
      },
      "outputs": [],
      "source": [
        "def get_z_score_mask(data: pd.Series, threshold: float) -> pd.Series:\n",
        "    \"\"\"\n",
        "    Данная функция должна считать Z-Score и возвращать маску выбросов\n",
        "    \"\"\"\n",
        "\n",
        "    mean = data.mean()\n",
        "    std = data.std()\n",
        "\n",
        "    outliers_mask = (data - mean)/std > threshold\n",
        "    return outliers_mask"
      ]
    },
    {
      "cell_type": "code",
      "execution_count": 28,
      "id": "670f6974",
      "metadata": {
        "id": "670f6974"
      },
      "outputs": [],
      "source": [
        "threshold = 3\n",
        "outlier_mask = get_z_score_mask(subset, threshold)"
      ]
    },
    {
      "cell_type": "code",
      "source": [
        "outlier_mask"
      ],
      "metadata": {
        "colab": {
          "base_uri": "https://localhost:8080/"
        },
        "id": "2lhE5WP-7TEg",
        "outputId": "cecfb00e-1ef7-4a9e-f429-fdd5b0bae2a7"
      },
      "id": "2lhE5WP-7TEg",
      "execution_count": 29,
      "outputs": [
        {
          "output_type": "execute_result",
          "data": {
            "text/plain": [
              "0      False\n",
              "1      False\n",
              "2      False\n",
              "3      False\n",
              "4      False\n",
              "       ...  \n",
              "886    False\n",
              "887    False\n",
              "888    False\n",
              "889    False\n",
              "890    False\n",
              "Name: Age, Length: 891, dtype: bool"
            ]
          },
          "metadata": {},
          "execution_count": 29
        }
      ]
    },
    {
      "cell_type": "code",
      "execution_count": 30,
      "id": "3d2438d5",
      "metadata": {
        "id": "3d2438d5",
        "colab": {
          "base_uri": "https://localhost:8080/"
        },
        "outputId": "e7d80b1e-6440-495a-9184-192342009482"
      },
      "outputs": [
        {
          "output_type": "execute_result",
          "data": {
            "text/plain": [
              "2"
            ]
          },
          "metadata": {},
          "execution_count": 30
        }
      ],
      "source": [
        "sum(outlier_mask)"
      ]
    },
    {
      "cell_type": "code",
      "execution_count": 31,
      "id": "a0e3c3ac",
      "metadata": {
        "id": "a0e3c3ac"
      },
      "outputs": [],
      "source": [
        "def plot_z_score(data: pd.Series, threshold: float) -> plt.Figure:\n",
        "    \"\"\"\n",
        "    Визуализация Z-Score\n",
        "    \"\"\"\n",
        "\n",
        "    mean = data.mean()\n",
        "    std = data.std()\n",
        "\n",
        "    data = (data - mean)/std\n",
        "\n",
        "    x_values = np.arange(len(data))\n",
        "\n",
        "    figure = plt.gcf()\n",
        "    axe = figure.gca()\n",
        "    axe.plot(x_values, data)\n",
        "    axe.plot(x_values, np.full(x_values.shape, threshold), 'k-')\n",
        "    return figure"
      ]
    },
    {
      "cell_type": "code",
      "execution_count": 32,
      "id": "15af7796",
      "metadata": {
        "id": "15af7796",
        "colab": {
          "base_uri": "https://localhost:8080/",
          "height": 430
        },
        "outputId": "8a03fb6b-c87a-4af0-b5ed-5178375da1db"
      },
      "outputs": [
        {
          "output_type": "display_data",
          "data": {
            "text/plain": [
              "<Figure size 640x480 with 1 Axes>"
            ],
            "image/png": "[encoded data removed]"
          },
          "metadata": {}
        }
      ],
      "source": [
        "threshold = 2\n",
        "figure = plot_z_score(subset, threshold)\n",
        "figure.show()"
      ]
    },
    {
      "cell_type": "code",
      "source": [],
      "metadata": {
        "id": "6n1BgLb_7hvR"
      },
      "id": "6n1BgLb_7hvR",
      "execution_count": null,
      "outputs": []
    }
  ],
  "metadata": {
    "kernelspec": {
      "display_name": "Python 3",
      "language": "python",
      "name": "python3"
    },
    "language_info": {
      "codemirror_mode": {
        "name": "ipython",
        "version": 3
      },
      "file_extension": ".py",
      "mimetype": "text/x-python",
      "name": "python",
      "nbconvert_exporter": "python",
      "pygments_lexer": "ipython3",
      "version": "3.11.6"
    },
    "papermill": {
      "default_parameters": {},
      "duration": 1193.976037,
      "end_time": "2023-04-28T05:25:56.985976",
      "environment_variables": {},
      "exception": null,
      "input_path": "__notebook__.ipynb",
      "output_path": "__notebook__.ipynb",
      "parameters": {},
      "start_time": "2023-04-28T05:06:03.009939",
      "version": "2.4.0"
    },
    "colab": {
      "provenance": [],
      "include_colab_link": true
    }
  },
  "nbformat": 4,
  "nbformat_minor": 5
}