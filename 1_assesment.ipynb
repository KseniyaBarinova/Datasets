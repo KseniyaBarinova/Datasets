{
  "cells": [
    {
      "cell_type": "markdown",
      "metadata": {
        "id": "view-in-github",
        "colab_type": "text"
      },
      "source": [
        "<a href=\"https://colab.research.google.com/github/KseniyaBarinova/Machine-learning/blob/main/1_assesment.ipynb\" target=\"_parent\"><img src=\"https://colab.research.google.com/assets/colab-badge.svg\" alt=\"Open In Colab\"/></a>"
      ]
    },
    {
      "cell_type": "markdown",
      "metadata": {
        "id": "qIn7qDdZhnoV"
      },
      "source": [
        "# Практическая работа №1"
      ]
    },
    {
      "cell_type": "markdown",
      "metadata": {
        "id": "5-dBTYfMhnoc"
      },
      "source": [
        "Датасет: https://www.kaggle.com/datasets/spscientist/students-performance-in-exams\n",
        "\n",
        "\n",
        "Задание:\n",
        "\n",
        "1. Найдите среднее значение, медиану, дисперсию и стандартное отклонение для каждого из признаков: `math score`, `reading score`, `writing score`. Дисперсию и стандартное отклонение необходимо найти без использования полностью готовых функций. (2 балла)\n",
        "\n",
        "2. Проверьте данные на наличие пустых значений. Если такие значения найдены, выберите способ их замены (например, средним значением, медианой или удалением строк с пустыми значениями) и выполните замену. (2 балла)\n",
        "\n",
        "3. Найдите выбросы в данных с использованием z-оценки или интерквартильного размаха (IQR). Напишите алгоритм для обнаружения выбросов, который не использует полностью готовые функции для этого. Выберите способ избавления от выбросов (например, удаление выбросов или замена их на среднее значение) и выполните соответствующие действия. (3 балла)\n",
        "\n",
        "5. На выбор реализуйте собственную функцию подсчета корреляции Пирсона, Кендалла или Спирмена. Найдите попарную корреляцию между признаками `math score`, `reading score` и `writing score`. Определите, есть ли значимая корреляция между ними, и объясните результаты. (3 балла)\n"
      ]
    },
    {
      "cell_type": "code",
      "source": [
        "from pathlib import Path # библиотека для работы с файлами\n",
        "\n",
        "from matplotlib import pyplot as plt # библиотека для визуализации\n",
        "\n",
        "import pandas as pd\n",
        "from scipy import stats\n",
        "import numpy as np\n",
        "from scipy import stats"
      ],
      "metadata": {
        "id": "noJI4z2wWxTy"
      },
      "execution_count": 1,
      "outputs": []
    },
    {
      "cell_type": "code",
      "source": [
        "from google.colab import drive\n",
        "drive.mount('/content/gdrive/')"
      ],
      "metadata": {
        "colab": {
          "base_uri": "https://localhost:8080/"
        },
        "id": "tYuwyJZA_o7A",
        "outputId": "e5a6ef74-5f29-4dcb-a48d-c501beee45ff"
      },
      "execution_count": 2,
      "outputs": [
        {
          "output_type": "stream",
          "name": "stdout",
          "text": [
            "Mounted at /content/gdrive/\n"
          ]
        }
      ]
    },
    {
      "cell_type": "code",
      "source": [
        "data_path = Path('/content/gdrive/MyDrive/ML_part2/Lesson_2')\n",
        "train_path = data_path / 'StudentsPerformance.csv'\n",
        "\n",
        "train_dataset = pd.read_csv(train_path)"
      ],
      "metadata": {
        "id": "4F5u-9Al_9U0"
      },
      "execution_count": 6,
      "outputs": []
    },
    {
      "cell_type": "code",
      "source": [
        "train_dataset.info()"
      ],
      "metadata": {
        "colab": {
          "base_uri": "https://localhost:8080/"
        },
        "id": "-8SHJSwpDwXR",
        "outputId": "0e1635ff-5c81-43c5-c1b2-57a77f06ec56"
      },
      "execution_count": 11,
      "outputs": [
        {
          "output_type": "stream",
          "name": "stdout",
          "text": [
            "<class 'pandas.core.frame.DataFrame'>\n",
            "RangeIndex: 1000 entries, 0 to 999\n",
            "Data columns (total 8 columns):\n",
            " #   Column                       Non-Null Count  Dtype \n",
            "---  ------                       --------------  ----- \n",
            " 0   gender                       1000 non-null   object\n",
            " 1   race/ethnicity               1000 non-null   object\n",
            " 2   parental level of education  1000 non-null   object\n",
            " 3   lunch                        1000 non-null   object\n",
            " 4   test preparation course      1000 non-null   object\n",
            " 5   math score                   1000 non-null   int64 \n",
            " 6   reading score                1000 non-null   int64 \n",
            " 7   writing score                1000 non-null   int64 \n",
            "dtypes: int64(3), object(5)\n",
            "memory usage: 62.6+ KB\n"
          ]
        }
      ]
    },
    {
      "cell_type": "code",
      "source": [
        "train_dataset.head()"
      ],
      "metadata": {
        "colab": {
          "base_uri": "https://localhost:8080/",
          "height": 206
        },
        "id": "97BOaAkND6BJ",
        "outputId": "0d2cb166-9fdf-4740-98db-d6acbed5d28f"
      },
      "execution_count": 12,
      "outputs": [
        {
          "output_type": "execute_result",
          "data": {
            "text/plain": [
              "   gender race/ethnicity parental level of education         lunch  \\\n",
              "0  female        group B           bachelor's degree      standard   \n",
              "1  female        group C                some college      standard   \n",
              "2  female        group B             master's degree      standard   \n",
              "3    male        group A          associate's degree  free/reduced   \n",
              "4    male        group C                some college      standard   \n",
              "\n",
              "  test preparation course  math score  reading score  writing score  \n",
              "0                    none          72             72             74  \n",
              "1               completed          69             90             88  \n",
              "2                    none          90             95             93  \n",
              "3                    none          47             57             44  \n",
              "4                    none          76             78             75  "
            ],
            "text/html": [
              "\n",
              "  <div id=\"df-3c443daf-761e-44d7-911b-c71e32409d1c\" class=\"colab-df-container\">\n",
              "    <div>\n",
              "<style scoped>\n",
              "    .dataframe tbody tr th:only-of-type {\n",
              "        vertical-align: middle;\n",
              "    }\n",
              "\n",
              "    .dataframe tbody tr th {\n",
              "        vertical-align: top;\n",
              "    }\n",
              "\n",
              "    .dataframe thead th {\n",
              "        text-align: right;\n",
              "    }\n",
              "</style>\n",
              "<table border=\"1\" class=\"dataframe\">\n",
              "  <thead>\n",
              "    <tr style=\"text-align: right;\">\n",
              "      <th></th>\n",
              "      <th>gender</th>\n",
              "      <th>race/ethnicity</th>\n",
              "      <th>parental level of education</th>\n",
              "      <th>lunch</th>\n",
              "      <th>test preparation course</th>\n",
              "      <th>math score</th>\n",
              "      <th>reading score</th>\n",
              "      <th>writing score</th>\n",
              "    </tr>\n",
              "  </thead>\n",
              "  <tbody>\n",
              "    <tr>\n",
              "      <th>0</th>\n",
              "      <td>female</td>\n",
              "      <td>group B</td>\n",
              "      <td>bachelor's degree</td>\n",
              "      <td>standard</td>\n",
              "      <td>none</td>\n",
              "      <td>72</td>\n",
              "      <td>72</td>\n",
              "      <td>74</td>\n",
              "    </tr>\n",
              "    <tr>\n",
              "      <th>1</th>\n",
              "      <td>female</td>\n",
              "      <td>group C</td>\n",
              "      <td>some college</td>\n",
              "      <td>standard</td>\n",
              "      <td>completed</td>\n",
              "      <td>69</td>\n",
              "      <td>90</td>\n",
              "      <td>88</td>\n",
              "    </tr>\n",
              "    <tr>\n",
              "      <th>2</th>\n",
              "      <td>female</td>\n",
              "      <td>group B</td>\n",
              "      <td>master's degree</td>\n",
              "      <td>standard</td>\n",
              "      <td>none</td>\n",
              "      <td>90</td>\n",
              "      <td>95</td>\n",
              "      <td>93</td>\n",
              "    </tr>\n",
              "    <tr>\n",
              "      <th>3</th>\n",
              "      <td>male</td>\n",
              "      <td>group A</td>\n",
              "      <td>associate's degree</td>\n",
              "      <td>free/reduced</td>\n",
              "      <td>none</td>\n",
              "      <td>47</td>\n",
              "      <td>57</td>\n",
              "      <td>44</td>\n",
              "    </tr>\n",
              "    <tr>\n",
              "      <th>4</th>\n",
              "      <td>male</td>\n",
              "      <td>group C</td>\n",
              "      <td>some college</td>\n",
              "      <td>standard</td>\n",
              "      <td>none</td>\n",
              "      <td>76</td>\n",
              "      <td>78</td>\n",
              "      <td>75</td>\n",
              "    </tr>\n",
              "  </tbody>\n",
              "</table>\n",
              "</div>\n",
              "    <div class=\"colab-df-buttons\">\n",
              "\n",
              "  <div class=\"colab-df-container\">\n",
              "    <button class=\"colab-df-convert\" onclick=\"convertToInteractive('df-3c443daf-761e-44d7-911b-c71e32409d1c')\"\n",
              "            title=\"Convert this dataframe to an interactive table.\"\n",
              "            style=\"display:none;\">\n",
              "\n",
              "  <svg xmlns=\"http://www.w3.org/2000/svg\" height=\"24px\" viewBox=\"0 -960 960 960\">\n",
              "    <path d=\"M120-120v-720h720v720H120Zm60-500h600v-160H180v160Zm220 220h160v-160H400v160Zm0 220h160v-160H400v160ZM180-400h160v-160H180v160Zm440 0h160v-160H620v160ZM180-180h160v-160H180v160Zm440 0h160v-160H620v160Z\"/>\n",
              "  </svg>\n",
              "    </button>\n",
              "\n",
              "  <style>\n",
              "    .colab-df-container {\n",
              "      display:flex;\n",
              "      gap: 12px;\n",
              "    }\n",
              "\n",
              "    .colab-df-convert {\n",
              "      background-color: #E8F0FE;\n",
              "      border: none;\n",
              "      border-radius: 50%;\n",
              "      cursor: pointer;\n",
              "      display: none;\n",
              "      fill: #1967D2;\n",
              "      height: 32px;\n",
              "      padding: 0 0 0 0;\n",
              "      width: 32px;\n",
              "    }\n",
              "\n",
              "    .colab-df-convert:hover {\n",
              "      background-color: #E2EBFA;\n",
              "      box-shadow: 0px 1px 2px rgba(60, 64, 67, 0.3), 0px 1px 3px 1px rgba(60, 64, 67, 0.15);\n",
              "      fill: #174EA6;\n",
              "    }\n",
              "\n",
              "    .colab-df-buttons div {\n",
              "      margin-bottom: 4px;\n",
              "    }\n",
              "\n",
              "    [theme=dark] .colab-df-convert {\n",
              "      background-color: #3B4455;\n",
              "      fill: #D2E3FC;\n",
              "    }\n",
              "\n",
              "    [theme=dark] .colab-df-convert:hover {\n",
              "      background-color: #434B5C;\n",
              "      box-shadow: 0px 1px 3px 1px rgba(0, 0, 0, 0.15);\n",
              "      filter: drop-shadow(0px 1px 2px rgba(0, 0, 0, 0.3));\n",
              "      fill: #FFFFFF;\n",
              "    }\n",
              "  </style>\n",
              "\n",
              "    <script>\n",
              "      const buttonEl =\n",
              "        document.querySelector('#df-3c443daf-761e-44d7-911b-c71e32409d1c button.colab-df-convert');\n",
              "      buttonEl.style.display =\n",
              "        google.colab.kernel.accessAllowed ? 'block' : 'none';\n",
              "\n",
              "      async function convertToInteractive(key) {\n",
              "        const element = document.querySelector('#df-3c443daf-761e-44d7-911b-c71e32409d1c');\n",
              "        const dataTable =\n",
              "          await google.colab.kernel.invokeFunction('convertToInteractive',\n",
              "                                                    [key], {});\n",
              "        if (!dataTable) return;\n",
              "\n",
              "        const docLinkHtml = 'Like what you see? Visit the ' +\n",
              "          '<a target=\"_blank\" href=https://colab.research.google.com/notebooks/data_table.ipynb>data table notebook</a>'\n",
              "          + ' to learn more about interactive tables.';\n",
              "        element.innerHTML = '';\n",
              "        dataTable['output_type'] = 'display_data';\n",
              "        await google.colab.output.renderOutput(dataTable, element);\n",
              "        const docLink = document.createElement('div');\n",
              "        docLink.innerHTML = docLinkHtml;\n",
              "        element.appendChild(docLink);\n",
              "      }\n",
              "    </script>\n",
              "  </div>\n",
              "\n",
              "\n",
              "<div id=\"df-6a89b0e0-ed95-4f43-8cfc-cde3d6eac3a9\">\n",
              "  <button class=\"colab-df-quickchart\" onclick=\"quickchart('df-6a89b0e0-ed95-4f43-8cfc-cde3d6eac3a9')\"\n",
              "            title=\"Suggest charts\"\n",
              "            style=\"display:none;\">\n",
              "\n",
              "<svg xmlns=\"http://www.w3.org/2000/svg\" height=\"24px\"viewBox=\"0 0 24 24\"\n",
              "     width=\"24px\">\n",
              "    <g>\n",
              "        <path d=\"M19 3H5c-1.1 0-2 .9-2 2v14c0 1.1.9 2 2 2h14c1.1 0 2-.9 2-2V5c0-1.1-.9-2-2-2zM9 17H7v-7h2v7zm4 0h-2V7h2v10zm4 0h-2v-4h2v4z\"/>\n",
              "    </g>\n",
              "</svg>\n",
              "  </button>\n",
              "\n",
              "<style>\n",
              "  .colab-df-quickchart {\n",
              "      --bg-color: #E8F0FE;\n",
              "      --fill-color: #1967D2;\n",
              "      --hover-bg-color: #E2EBFA;\n",
              "      --hover-fill-color: #174EA6;\n",
              "      --disabled-fill-color: #AAA;\n",
              "      --disabled-bg-color: #DDD;\n",
              "  }\n",
              "\n",
              "  [theme=dark] .colab-df-quickchart {\n",
              "      --bg-color: #3B4455;\n",
              "      --fill-color: #D2E3FC;\n",
              "      --hover-bg-color: #434B5C;\n",
              "      --hover-fill-color: #FFFFFF;\n",
              "      --disabled-bg-color: #3B4455;\n",
              "      --disabled-fill-color: #666;\n",
              "  }\n",
              "\n",
              "  .colab-df-quickchart {\n",
              "    background-color: var(--bg-color);\n",
              "    border: none;\n",
              "    border-radius: 50%;\n",
              "    cursor: pointer;\n",
              "    display: none;\n",
              "    fill: var(--fill-color);\n",
              "    height: 32px;\n",
              "    padding: 0;\n",
              "    width: 32px;\n",
              "  }\n",
              "\n",
              "  .colab-df-quickchart:hover {\n",
              "    background-color: var(--hover-bg-color);\n",
              "    box-shadow: 0 1px 2px rgba(60, 64, 67, 0.3), 0 1px 3px 1px rgba(60, 64, 67, 0.15);\n",
              "    fill: var(--button-hover-fill-color);\n",
              "  }\n",
              "\n",
              "  .colab-df-quickchart-complete:disabled,\n",
              "  .colab-df-quickchart-complete:disabled:hover {\n",
              "    background-color: var(--disabled-bg-color);\n",
              "    fill: var(--disabled-fill-color);\n",
              "    box-shadow: none;\n",
              "  }\n",
              "\n",
              "  .colab-df-spinner {\n",
              "    border: 2px solid var(--fill-color);\n",
              "    border-color: transparent;\n",
              "    border-bottom-color: var(--fill-color);\n",
              "    animation:\n",
              "      spin 1s steps(1) infinite;\n",
              "  }\n",
              "\n",
              "  @keyframes spin {\n",
              "    0% {\n",
              "      border-color: transparent;\n",
              "      border-bottom-color: var(--fill-color);\n",
              "      border-left-color: var(--fill-color);\n",
              "    }\n",
              "    20% {\n",
              "      border-color: transparent;\n",
              "      border-left-color: var(--fill-color);\n",
              "      border-top-color: var(--fill-color);\n",
              "    }\n",
              "    30% {\n",
              "      border-color: transparent;\n",
              "      border-left-color: var(--fill-color);\n",
              "      border-top-color: var(--fill-color);\n",
              "      border-right-color: var(--fill-color);\n",
              "    }\n",
              "    40% {\n",
              "      border-color: transparent;\n",
              "      border-right-color: var(--fill-color);\n",
              "      border-top-color: var(--fill-color);\n",
              "    }\n",
              "    60% {\n",
              "      border-color: transparent;\n",
              "      border-right-color: var(--fill-color);\n",
              "    }\n",
              "    80% {\n",
              "      border-color: transparent;\n",
              "      border-right-color: var(--fill-color);\n",
              "      border-bottom-color: var(--fill-color);\n",
              "    }\n",
              "    90% {\n",
              "      border-color: transparent;\n",
              "      border-bottom-color: var(--fill-color);\n",
              "    }\n",
              "  }\n",
              "</style>\n",
              "\n",
              "  <script>\n",
              "    async function quickchart(key) {\n",
              "      const quickchartButtonEl =\n",
              "        document.querySelector('#' + key + ' button');\n",
              "      quickchartButtonEl.disabled = true;  // To prevent multiple clicks.\n",
              "      quickchartButtonEl.classList.add('colab-df-spinner');\n",
              "      try {\n",
              "        const charts = await google.colab.kernel.invokeFunction(\n",
              "            'suggestCharts', [key], {});\n",
              "      } catch (error) {\n",
              "        console.error('Error during call to suggestCharts:', error);\n",
              "      }\n",
              "      quickchartButtonEl.classList.remove('colab-df-spinner');\n",
              "      quickchartButtonEl.classList.add('colab-df-quickchart-complete');\n",
              "    }\n",
              "    (() => {\n",
              "      let quickchartButtonEl =\n",
              "        document.querySelector('#df-6a89b0e0-ed95-4f43-8cfc-cde3d6eac3a9 button');\n",
              "      quickchartButtonEl.style.display =\n",
              "        google.colab.kernel.accessAllowed ? 'block' : 'none';\n",
              "    })();\n",
              "  </script>\n",
              "</div>\n",
              "    </div>\n",
              "  </div>\n"
            ],
            "application/vnd.google.colaboratory.intrinsic+json": {
              "type": "dataframe",
              "variable_name": "train_dataset",
              "summary": "{\n  \"name\": \"train_dataset\",\n  \"rows\": 1000,\n  \"fields\": [\n    {\n      \"column\": \"gender\",\n      \"properties\": {\n        \"dtype\": \"category\",\n        \"num_unique_values\": 2,\n        \"samples\": [\n          \"male\",\n          \"female\"\n        ],\n        \"semantic_type\": \"\",\n        \"description\": \"\"\n      }\n    },\n    {\n      \"column\": \"race/ethnicity\",\n      \"properties\": {\n        \"dtype\": \"category\",\n        \"num_unique_values\": 5,\n        \"samples\": [\n          \"group C\",\n          \"group E\"\n        ],\n        \"semantic_type\": \"\",\n        \"description\": \"\"\n      }\n    },\n    {\n      \"column\": \"parental level of education\",\n      \"properties\": {\n        \"dtype\": \"category\",\n        \"num_unique_values\": 6,\n        \"samples\": [\n          \"bachelor's degree\",\n          \"some college\"\n        ],\n        \"semantic_type\": \"\",\n        \"description\": \"\"\n      }\n    },\n    {\n      \"column\": \"lunch\",\n      \"properties\": {\n        \"dtype\": \"category\",\n        \"num_unique_values\": 2,\n        \"samples\": [\n          \"free/reduced\",\n          \"standard\"\n        ],\n        \"semantic_type\": \"\",\n        \"description\": \"\"\n      }\n    },\n    {\n      \"column\": \"test preparation course\",\n      \"properties\": {\n        \"dtype\": \"category\",\n        \"num_unique_values\": 2,\n        \"samples\": [\n          \"completed\",\n          \"none\"\n        ],\n        \"semantic_type\": \"\",\n        \"description\": \"\"\n      }\n    },\n    {\n      \"column\": \"math score\",\n      \"properties\": {\n        \"dtype\": \"number\",\n        \"std\": 15,\n        \"min\": 0,\n        \"max\": 100,\n        \"num_unique_values\": 81,\n        \"samples\": [\n          55,\n          72\n        ],\n        \"semantic_type\": \"\",\n        \"description\": \"\"\n      }\n    },\n    {\n      \"column\": \"reading score\",\n      \"properties\": {\n        \"dtype\": \"number\",\n        \"std\": 14,\n        \"min\": 17,\n        \"max\": 100,\n        \"num_unique_values\": 72,\n        \"samples\": [\n          78,\n          23\n        ],\n        \"semantic_type\": \"\",\n        \"description\": \"\"\n      }\n    },\n    {\n      \"column\": \"writing score\",\n      \"properties\": {\n        \"dtype\": \"number\",\n        \"std\": 15,\n        \"min\": 10,\n        \"max\": 100,\n        \"num_unique_values\": 77,\n        \"samples\": [\n          75,\n          76\n        ],\n        \"semantic_type\": \"\",\n        \"description\": \"\"\n      }\n    }\n  ]\n}"
            }
          },
          "metadata": {},
          "execution_count": 12
        }
      ]
    },
    {
      "cell_type": "markdown",
      "source": [
        "1. Найдите среднее значение, медиану, дисперсию и стандартное отклонение для каждого из признаков: math score, reading score, writing score. Дисперсию и стандартное отклонение необходимо найти без использования полностью готовых функций. (2 балла)"
      ],
      "metadata": {
        "id": "-n9UyAE1B9e_"
      }
    },
    {
      "cell_type": "code",
      "source": [
        "df = pd.DataFrame(train_dataset)\n",
        "\n",
        "math_score = df['math score']\n",
        "reading_score = df ['reading score']\n",
        "writing_score = df ['writing score']"
      ],
      "metadata": {
        "id": "CNYKtQUUNeNG"
      },
      "execution_count": 58,
      "outputs": []
    },
    {
      "cell_type": "code",
      "source": [
        "def mean(xs):\n",
        "    '''Среднее значение числового ряда'''\n",
        "    return sum(xs) / len(xs)"
      ],
      "metadata": {
        "id": "B7-XEt7kJrmd"
      },
      "execution_count": 30,
      "outputs": []
    },
    {
      "cell_type": "code",
      "source": [
        "def median(xs):\n",
        "    '''Медиана числового ряда'''\n",
        "    n = len(xs)\n",
        "    mid = n // 2\n",
        "    if n % 2 == 1:\n",
        "        return sorted(xs)[mid]\n",
        "    else:\n",
        "        return mean( sorted(xs)[mid-1:][:2] )"
      ],
      "metadata": {
        "id": "_4PkIA3QJmZf"
      },
      "execution_count": 29,
      "outputs": []
    },
    {
      "cell_type": "code",
      "source": [
        "def variance(xs):\n",
        "    '''Дисперсия (варианс) числового ряда,\n",
        "       несмещенная дисперсия при n <= 30'''\n",
        "    mu = mean(xs)\n",
        "    n = len(xs)\n",
        "    n = n-1 if n in range(1, len(xs)) else n\n",
        "    square_deviation = lambda x : (x - mu) ** 2\n",
        "    return sum( map(square_deviation, xs) ) / n"
      ],
      "metadata": {
        "id": "rlnR0g_yJoPL"
      },
      "execution_count": 65,
      "outputs": []
    },
    {
      "cell_type": "code",
      "source": [
        "print (mean(math_score))\n",
        "print (median(math_score))\n",
        "print (variance (math_score))\n",
        "print (np.average(math_score)) #стандартное отклонение"
      ],
      "metadata": {
        "colab": {
          "base_uri": "https://localhost:8080/"
        },
        "id": "bD1UD3WdLBEq",
        "outputId": "7e0e65ae-62de-4854-ef74-35f98c597b1a"
      },
      "execution_count": 71,
      "outputs": [
        {
          "output_type": "stream",
          "name": "stdout",
          "text": [
            "66.089\n",
            "66.0\n",
            "229.68907900000048\n",
            "66.089\n"
          ]
        }
      ]
    },
    {
      "cell_type": "code",
      "source": [
        "print (mean(reading_score))\n",
        "print (median(reading_score))\n",
        "print (variance (reading_score))\n",
        "print (np.average(reading_score)) #стандартное отклонение"
      ],
      "metadata": {
        "colab": {
          "base_uri": "https://localhost:8080/"
        },
        "id": "ALKkrOU0QgpP",
        "outputId": "f8d5951a-36aa-40b6-e30c-99653901784c"
      },
      "execution_count": 72,
      "outputs": [
        {
          "output_type": "stream",
          "name": "stdout",
          "text": [
            "69.169\n",
            "70.0\n",
            "212.9524390000001\n",
            "69.169\n"
          ]
        }
      ]
    },
    {
      "cell_type": "code",
      "source": [
        "print (mean(writing_score))\n",
        "print (median(writing_score))\n",
        "print (variance(writing_score))\n",
        "print (np.average(writing_score)) #стандартное отклонение"
      ],
      "metadata": {
        "colab": {
          "base_uri": "https://localhost:8080/"
        },
        "outputId": "43af53a1-9fd7-4fbf-f746-d74247c86c9b",
        "id": "N0q-2wAMQ8c0"
      },
      "execution_count": 73,
      "outputs": [
        {
          "output_type": "stream",
          "name": "stdout",
          "text": [
            "68.054\n",
            "69.0\n",
            "230.6770839999997\n",
            "68.054\n"
          ]
        }
      ]
    },
    {
      "cell_type": "markdown",
      "source": [
        "2. Проверьте данные на наличие пустых значений. Если такие значения найдены, выберите способ их замены (например, средним значением, медианой или удалением строк с пустыми значениями) и выполните замену. (2 балла)"
      ],
      "metadata": {
        "id": "Bz-YVz28CDEx"
      }
    },
    {
      "cell_type": "code",
      "source": [
        "def get_number_of_missing_values(data: pd.Series) -> dict[str, int]:\n",
        "    \"\"\"Данная функция должна подсчитывать количество пустых ячеек в каждой из колонок\"\"\"\n",
        "    result_dict = {}\n",
        "\n",
        "    for label, content in data.items():\n",
        "        result_dict[label] = sum(pd.isna(content))\n",
        "    return result_dict"
      ],
      "metadata": {
        "id": "y8A_lKX-CGig"
      },
      "execution_count": 7,
      "outputs": []
    },
    {
      "cell_type": "code",
      "source": [
        "get_number_of_missing_values(train_dataset)"
      ],
      "metadata": {
        "colab": {
          "base_uri": "https://localhost:8080/"
        },
        "id": "IDLOwPyxCJ34",
        "outputId": "a5e5c701-84da-4d54-e962-b88fa08a2211"
      },
      "execution_count": 8,
      "outputs": [
        {
          "output_type": "execute_result",
          "data": {
            "text/plain": [
              "{'gender': 0,\n",
              " 'race/ethnicity': 0,\n",
              " 'parental level of education': 0,\n",
              " 'lunch': 0,\n",
              " 'test preparation course': 0,\n",
              " 'math score': 0,\n",
              " 'reading score': 0,\n",
              " 'writing score': 0}"
            ]
          },
          "metadata": {},
          "execution_count": 8
        }
      ]
    },
    {
      "cell_type": "code",
      "source": [
        "def get_basic_metrics(data: pd.Series) -> dict[str, float]:\n",
        "    \"\"\"\n",
        "    Данная функция должна считать метрики `mean`, `median`, `mode`, `variance`, `std`, `Q1`,`Q2`,`Q3`,`Q4`\n",
        "    и возвращать словарь со значениями\n",
        "    \"\"\"\n",
        "    result_dict = {}\n",
        "\n",
        "    result_dict['mean'] = np.mean(data)\n",
        "    result_dict['median'] = np.median(data)\n",
        "    result_dict['mode'] = stats.mode(data)\n",
        "    result_dict['variance'] = np.var(data)\n",
        "    result_dict['STD'] = np.std(data)\n",
        "    result_dict['Q1'] = np.quantile(data, 0.25)\n",
        "    result_dict['Q2'] = np.quantile(data, 0.5)\n",
        "    result_dict['Q3'] = np.quantile(data, 0.75)\n",
        "    result_dict['Q4'] = np.quantile(data, 1)\n",
        "    return result_dict"
      ],
      "metadata": {
        "id": "4RuentFqDY03"
      },
      "execution_count": 9,
      "outputs": []
    },
    {
      "cell_type": "code",
      "source": [
        "subset = train_dataset['math score']\n",
        "get_basic_metrics(subset)"
      ],
      "metadata": {
        "colab": {
          "base_uri": "https://localhost:8080/"
        },
        "id": "-4zKXSWuDcWo",
        "outputId": "956a2626-b6a4-46be-905e-ce362f3daab1"
      },
      "execution_count": 13,
      "outputs": [
        {
          "output_type": "execute_result",
          "data": {
            "text/plain": [
              "{'mean': 66.089,\n",
              " 'median': 66.0,\n",
              " 'mode': ModeResult(mode=65, count=36),\n",
              " 'variance': 229.68907899999996,\n",
              " 'STD': 15.155496659628149,\n",
              " 'Q1': 57.0,\n",
              " 'Q2': 66.0,\n",
              " 'Q3': 77.0,\n",
              " 'Q4': 100}"
            ]
          },
          "metadata": {},
          "execution_count": 13
        }
      ]
    },
    {
      "cell_type": "code",
      "source": [
        "def get_metrics(data: pd.Series) -> dict[str, float]:\n",
        "    \"\"\"\n",
        "    Данная функция должна считать метрики `mean`, `median`, `mode`, `variance`, `std`, `Q1`,`Q2`,`Q3`,`Q4`\n",
        "    и возвращать словарь со значениями, учитывая пустые значения\n",
        "    \"\"\"\n",
        "    result_dict = {}\n",
        "\n",
        "    cropped_data = data.dropna()\n",
        "\n",
        "    result_dict['mean'] = np.mean(cropped_data)\n",
        "    result_dict['median'] = np.median(cropped_data)\n",
        "    result_dict['mode'] = stats.mode(cropped_data).mode\n",
        "    result_dict['variance'] = np.var(cropped_data)\n",
        "    result_dict['STD'] = np.std(cropped_data)\n",
        "    result_dict['Q1'] = np.quantile(cropped_data, 0.25)\n",
        "    result_dict['Q2'] = np.quantile(cropped_data, 0.5)\n",
        "    result_dict['Q3'] = np.quantile(cropped_data, 0.75)\n",
        "    result_dict['Q4'] = np.quantile(cropped_data, 1)\n",
        "    return result_dict"
      ],
      "metadata": {
        "id": "SbQdD0T_Eji7"
      },
      "execution_count": 14,
      "outputs": []
    },
    {
      "cell_type": "code",
      "source": [
        "original_result = get_metrics(subset)\n",
        "original_result"
      ],
      "metadata": {
        "colab": {
          "base_uri": "https://localhost:8080/"
        },
        "id": "q6iV7C5LEmoV",
        "outputId": "a352187d-eaf8-4cc8-ddc5-a23ac805129c"
      },
      "execution_count": 15,
      "outputs": [
        {
          "output_type": "execute_result",
          "data": {
            "text/plain": [
              "{'mean': 66.089,\n",
              " 'median': 66.0,\n",
              " 'mode': 65,\n",
              " 'variance': 229.68907899999996,\n",
              " 'STD': 15.155496659628149,\n",
              " 'Q1': 57.0,\n",
              " 'Q2': 66.0,\n",
              " 'Q3': 77.0,\n",
              " 'Q4': 100}"
            ]
          },
          "metadata": {},
          "execution_count": 15
        }
      ]
    },
    {
      "cell_type": "code",
      "source": [
        "def fill_empty_values(data: pd.Series, value: float) -> pd.Series:\n",
        "    return data.fillna(value)"
      ],
      "metadata": {
        "id": "xG-uxi1jEzJh"
      },
      "execution_count": 16,
      "outputs": []
    },
    {
      "cell_type": "code",
      "source": [
        "def print_dicts_comparison(dict1: dict[str, float], dict2: dict[str, float]) -> None:\n",
        "    for metric_name in dict1.keys():\n",
        "        print(f'{metric_name}: {dict1[metric_name]} -> {dict2[metric_name]}')"
      ],
      "metadata": {
        "id": "iW54XqraE12F"
      },
      "execution_count": 17,
      "outputs": []
    },
    {
      "cell_type": "code",
      "source": [
        "value = get_metrics(subset)['median']\n",
        "\n",
        "filled_subset = fill_empty_values(subset, value)\n",
        "\n",
        "print_dicts_comparison(original_result, get_metrics(filled_subset))"
      ],
      "metadata": {
        "colab": {
          "base_uri": "https://localhost:8080/"
        },
        "id": "qeHN_15VE5OK",
        "outputId": "5cc67d2b-d904-4fb5-d672-d0d6ddc94172"
      },
      "execution_count": 18,
      "outputs": [
        {
          "output_type": "stream",
          "name": "stdout",
          "text": [
            "mean: 66.089 -> 66.089\n",
            "median: 66.0 -> 66.0\n",
            "mode: 65 -> 65\n",
            "variance: 229.68907899999996 -> 229.68907899999996\n",
            "STD: 15.155496659628149 -> 15.155496659628149\n",
            "Q1: 57.0 -> 57.0\n",
            "Q2: 66.0 -> 66.0\n",
            "Q3: 77.0 -> 77.0\n",
            "Q4: 100 -> 100\n"
          ]
        }
      ]
    },
    {
      "cell_type": "markdown",
      "source": [
        "3. Найдите выбросы в данных с использованием z-оценки или интерквартильного размаха (IQR). Напишите алгоритм для обнаружения выбросов, который не использует полностью готовые функции для этого. Выберите способ избавления от выбросов (например, удаление выбросов или замена их на среднее значение) и выполните соответствующие действия. (3 балла)"
      ],
      "metadata": {
        "id": "VRG7kY_LCVy7"
      }
    },
    {
      "cell_type": "code",
      "source": [
        "def get_interquartile_range_mask(data: pd.Series) -> pd.Series:\n",
        "    \"\"\"\n",
        "    Данная функция должна считать квартили, считать верхнюю и нижнюю границу и возвращать маску\n",
        "    \"\"\"\n",
        "    cropped_data = data.dropna()\n",
        "\n",
        "    quartile_1 = np.quantile(cropped_data, 0.25)\n",
        "    quartile_3 = np.quantile(cropped_data, 0.75)\n",
        "\n",
        "    difference_quartile = quartile_3 - quartile_1\n",
        "\n",
        "    left_bound = quartile_1 - 1.5 * difference_quartile\n",
        "    right_bound = quartile_3 + 1.5 * difference_quartile\n",
        "\n",
        "    outliers_mask = (data < left_bound) | (data > right_bound)\n",
        "    return outliers_mask"
      ],
      "metadata": {
        "id": "D4CNfk7ACbdH"
      },
      "execution_count": 19,
      "outputs": []
    },
    {
      "cell_type": "code",
      "source": [
        "outlier_mask = get_interquartile_range_mask(subset)"
      ],
      "metadata": {
        "id": "6CEzET8qCeRQ"
      },
      "execution_count": 20,
      "outputs": []
    },
    {
      "cell_type": "code",
      "source": [
        "outlier_mask"
      ],
      "metadata": {
        "colab": {
          "base_uri": "https://localhost:8080/"
        },
        "id": "8XuGW0LkCeNx",
        "outputId": "d3880f04-92de-4b10-830b-fa1d1ba6e253"
      },
      "execution_count": 21,
      "outputs": [
        {
          "output_type": "execute_result",
          "data": {
            "text/plain": [
              "0      False\n",
              "1      False\n",
              "2      False\n",
              "3      False\n",
              "4      False\n",
              "       ...  \n",
              "995    False\n",
              "996    False\n",
              "997    False\n",
              "998    False\n",
              "999    False\n",
              "Name: math score, Length: 1000, dtype: bool"
            ]
          },
          "metadata": {},
          "execution_count": 21
        }
      ]
    },
    {
      "cell_type": "code",
      "source": [
        "sum(outlier_mask)"
      ],
      "metadata": {
        "colab": {
          "base_uri": "https://localhost:8080/"
        },
        "id": "OlED5t9EGP4V",
        "outputId": "bc3874e5-8641-48dc-a908-ecc33f9b627e"
      },
      "execution_count": 22,
      "outputs": [
        {
          "output_type": "execute_result",
          "data": {
            "text/plain": [
              "8"
            ]
          },
          "metadata": {},
          "execution_count": 22
        }
      ]
    },
    {
      "cell_type": "markdown",
      "source": [
        "Способ избавления от выбрасов - удаление выбросов"
      ],
      "metadata": {
        "id": "7-YhVlDxULOv"
      }
    },
    {
      "cell_type": "code",
      "source": [
        "# Box Plot\n",
        "import seaborn as sns\n",
        "sns.boxplot(train_dataset['math score'])\n"
      ],
      "metadata": {
        "colab": {
          "base_uri": "https://localhost:8080/",
          "height": 428
        },
        "id": "vI4_aONrGUr3",
        "outputId": "0b1db1a9-f323-4e85-a1ca-c3c0350a9e54"
      },
      "execution_count": 77,
      "outputs": [
        {
          "output_type": "execute_result",
          "data": {
            "text/plain": [
              "<Axes: ylabel='math score'>"
            ]
          },
          "metadata": {},
          "execution_count": 77
        },
        {
          "output_type": "display_data",
          "data": {
            "text/plain": [
              "<Figure size 640x480 with 1 Axes>"
            ],
            "image/png": "[encoded data removed]"
          },
          "metadata": {}
        }
      ]
    },
    {
      "cell_type": "code",
      "source": [
        "def removal_box_plot(df, column, threshold):\n",
        "    sns.boxplot(df[column])\n",
        "    plt.title(f'Original Box Plot of {column}')\n",
        "    plt.show()\n",
        "\n",
        "    removed_outliers = df[df[column] >= threshold]\n",
        "\n",
        "    sns.boxplot(removed_outliers[column])\n",
        "    plt.title(f'Box Plot without Outliers of {column}')\n",
        "    plt.show()\n",
        "    return removed_outliers\n",
        "\n",
        "\n",
        "threshold_value = 30\n",
        "\n",
        "no_outliers = removal_box_plot(train_dataset, 'math score', threshold_value)"
      ],
      "metadata": {
        "colab": {
          "base_uri": "https://localhost:8080/",
          "height": 849
        },
        "id": "-rcyMyCUTwp3",
        "outputId": "70c0b856-d1c0-4372-9ee0-aa07314749e7"
      },
      "execution_count": 78,
      "outputs": [
        {
          "output_type": "display_data",
          "data": {
            "text/plain": [
              "<Figure size 640x480 with 1 Axes>"
            ],
            "image/png": "[encoded data removed]"
          },
          "metadata": {}
        },
        {
          "output_type": "display_data",
          "data": {
            "text/plain": [
              "<Figure size 640x480 with 1 Axes>"
            ],
            "image/png": "[encoded data removed]"
          },
          "metadata": {}
        }
      ]
    },
    {
      "cell_type": "markdown",
      "source": [
        "4. На выбор реализуйте собственную функцию подсчета корреляции Пирсона, Кендалла или Спирмена. Найдите попарную корреляцию между признаками math score, reading score и writing score. Определите, есть ли значимая корреляция между ними, и объясните результаты. (3 балла)"
      ],
      "metadata": {
        "id": "9s2ZPL5XCYef"
      }
    },
    {
      "cell_type": "code",
      "source": [
        "import math\n",
        "def average(x):\n",
        "    assert len(x) > 0\n",
        "    return float(sum(x)) / len(x)\n"
      ],
      "metadata": {
        "id": "IbHYg4fgWAJ1"
      },
      "execution_count": 86,
      "outputs": []
    },
    {
      "cell_type": "code",
      "source": [
        "def pearson_correlation(x, y):\n",
        "    assert len(x) == len(y)\n",
        "    n = len(x)\n",
        "    assert n > 0\n",
        "    avg_x = average(x)\n",
        "    avg_y = average(y)\n",
        "    diffprod = 0\n",
        "    xdiff2 = 0\n",
        "    ydiff2 = 0\n",
        "    for idx in range(n):\n",
        "        xdiff = x[idx] - avg_x\n",
        "        ydiff = y[idx] - avg_y\n",
        "        diffprod += xdiff * ydiff\n",
        "        xdiff2 += xdiff * xdiff\n",
        "        ydiff2 += ydiff * ydiff\n",
        "\n",
        "    return diffprod / math.sqrt(xdiff2 * ydiff2)"
      ],
      "metadata": {
        "id": "VDTkbrkJVwsY"
      },
      "execution_count": 89,
      "outputs": []
    },
    {
      "cell_type": "code",
      "source": [
        "pearson_r = pearson_correlation(math_score, reading_score)\n",
        "print(\"Коэффициент корреляции Пирсона:\", pearson_r)"
      ],
      "metadata": {
        "colab": {
          "base_uri": "https://localhost:8080/"
        },
        "id": "HpdKb4oCOb78",
        "outputId": "02e6f013-0532-4c6c-a4f1-190bcff2ff70"
      },
      "execution_count": 90,
      "outputs": [
        {
          "output_type": "stream",
          "name": "stdout",
          "text": [
            "Коэффициент корреляции Пирсона: 0.8175796636720533\n"
          ]
        }
      ]
    },
    {
      "cell_type": "code",
      "source": [
        "pearson_r = pearson_correlation(math_score, writing_score)\n",
        "print(\"Коэффициент корреляции Пирсона:\", pearson_r)"
      ],
      "metadata": {
        "colab": {
          "base_uri": "https://localhost:8080/"
        },
        "id": "nxJfuiTZSXys",
        "outputId": "2a86af01-1973-46b5-b4cd-84b006f2e493"
      },
      "execution_count": 75,
      "outputs": [
        {
          "output_type": "stream",
          "name": "stdout",
          "text": [
            "Коэффициент корреляции Пирсона: 0.8026420459498071\n"
          ]
        }
      ]
    },
    {
      "cell_type": "code",
      "source": [
        "pearson_r = pearson_correlation(reading_score, writing_score)\n",
        "print(\"Коэффициент корреляции Пирсона:\", pearson_r)"
      ],
      "metadata": {
        "colab": {
          "base_uri": "https://localhost:8080/"
        },
        "id": "c0NvaX_ISiTI",
        "outputId": "7a1f17e7-0401-4e86-9e8a-60b8e4ddc757"
      },
      "execution_count": 76,
      "outputs": [
        {
          "output_type": "stream",
          "name": "stdout",
          "text": [
            "Коэффициент корреляции Пирсона: 0.9545980771462474\n"
          ]
        }
      ]
    },
    {
      "cell_type": "markdown",
      "source": [
        "Коэффициент корреляции Пирсона (r-Пирсона) применяется для исследования взаимосвязи двух переменных, измеренных в метрических шкалах на одной и той же выборке. Он позволяет определить, насколько пропорциональная изменчивость двух переменных.\n",
        "Из этого высказывани можно сделать вывод что reading_score и writing_score обладают большей линейной взаимосвязью по сравнению с остальными парами, но у них у всех достаточно сильная взаимосвязь,  а именно больше 0.8\n"
      ],
      "metadata": {
        "id": "elZJsN3UUj55"
      }
    }
  ],
  "metadata": {
    "language_info": {
      "name": "python"
    },
    "colab": {
      "provenance": [],
      "include_colab_link": true
    },
    "kernelspec": {
      "name": "python3",
      "display_name": "Python 3"
    }
  },
  "nbformat": 4,
  "nbformat_minor": 0
}